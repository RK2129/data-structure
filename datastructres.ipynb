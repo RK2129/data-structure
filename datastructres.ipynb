{
  "nbformat": 4,
  "nbformat_minor": 0,
  "metadata": {
    "colab": {
      "provenance": []
    },
    "kernelspec": {
      "name": "python3",
      "display_name": "Python 3"
    },
    "language_info": {
      "name": "python"
    }
  },
  "cells": [
    {
      "cell_type": "code",
      "execution_count": null,
      "metadata": {
        "id": "6wqi4jbleXJi"
      },
      "outputs": [],
      "source": []
    },
    {
      "cell_type": "markdown",
      "source": [
        "1. What are data structures, and why are they important?\n",
        "→ Structured way to store & manage data efficiently. Improve speed, memory usage, and logic.\n",
        "\n",
        "2. Difference between mutable & immutable data types\n",
        "→ Mutable: Can change (list, dict)\n",
        "→ Immutable: Can't change (tuple, string, int)\n",
        "\n",
        "3. Difference between list & tuple\n",
        "→ List: [ ], mutable, slow, more memory\n",
        "→ Tuple: ( ), immutable, fast, less memory\n",
        "\n",
        "4. How dictionaries store data?\n",
        "→ Key-value pairs using hash table. Keys are unique.\n",
        "\n",
        "5. Why use set instead of list?\n",
        "→ Set avoids duplicates, faster membership check, unordered.\n",
        "\n",
        "6. What is a string & difference from list?\n",
        "→ String: Immutable sequence of characters\n",
        "→ List: Mutable, can hold any data type\n",
        "\n",
        "7. How tuples ensure data integrity?\n",
        "→ Immutable, fixed values can’t change = safe & secure data\n",
        "\n",
        "8. What is a hash table & its relation to dict?\n",
        "→ Hash table = key is hashed to index → Dict in Python uses it\n",
        "\n",
        "9. Can lists contain different data types?\n",
        "→ Yes, lists can store int, str, bool, even other lists\n",
        "\n",
        "10. Why are strings immutable?\n",
        "→ For memory efficiency, security, and fast access\n",
        "\n",
        "11. Advantages of dict over list?\n",
        "→ Fast access via key, better for lookup, structured data\n",
        "\n",
        "12. When to use tuple over list?\n",
        "→ When data should not change (e.g., GPS coordinates)\n",
        "\n",
        "13. How do sets handle duplicates?\n",
        "→ Automatically remove duplicates\n",
        "\n",
        "14. “in” keyword: list vs dict\n",
        "→ List: checks values\n",
        "→ Dict: checks keys only\n",
        "\n",
        "15. Can you modify tuple elements? Why not?\n",
        "→ No, tuples are immutable (can’t change values inside)\n",
        "\n",
        "16. What is nested dictionary? Example?\n",
        "→ Dict inside dict  \n",
        "  Example:  \n",
        "  student = {\"name\": \"Amit\", \"marks\": {\"math\": 90, \"eng\": 85}}\n",
        "\n",
        "17. Time complexity of accessing dict elements?\n",
        "→ O(1) – very fast (constant time using hash table)\n",
        "\n",
        "18. When are lists preferred over dicts?\n",
        "→ When order matters, or you only need values (no keys)\n",
        "\n",
        "19. Why are dicts unordered?\n",
        "→ Stored using hash, not index → No guarantee of order\n",
        "\n",
        "20. List vs Dict: data retrieval\n",
        "→ List: use index  \n",
        "→ Dict: use key\n"
      ],
      "metadata": {
        "id": "4ruVza0he8QG"
      }
    },
    {
      "cell_type": "code",
      "source": [
        "# 21. Create a string with your name and print it\n",
        "name = \"Krishna\"\n",
        "print(\"21:\", name)\n",
        "\n",
        "# 22. Find the length of the string \"Hello World\"\n",
        "s = \"Hello World\"\n",
        "print(\"22:\", len(s))\n",
        "\n",
        "# 23. Slice the first 3 characters from \"Python Programming\"\n",
        "text = \"Python Programming\"\n",
        "print(\"23:\", text[:3])\n",
        "\n",
        "# 24. Convert the string \"hello\" to uppercase\n",
        "word = \"hello\"\n",
        "print(\"24:\", word.upper())\n",
        "\n",
        "# 25. Replace \"apple\" with \"orange\" in \"I like apple\"\n",
        "sentence = \"I like apple\"\n",
        "new_sentence = sentence.replace(\"apple\", \"orange\")\n",
        "print(\"25:\", new_sentence)\n",
        "\n",
        "# 26. Create a list with numbers 1 to 5 and print it\n",
        "nums = [1, 2, 3, 4, 5]\n",
        "print(\"26:\", nums)\n",
        "\n",
        "# 27. Append number 10 to the list [1, 2, 3, 4]\n",
        "lst1 = [1, 2, 3, 4]\n",
        "lst1.append(10)\n",
        "print(\"27:\", lst1)\n",
        "\n",
        "# 28. Remove number 3 from the list [1, 2, 3, 4, 5]\n",
        "lst2 = [1, 2, 3, 4, 5]\n",
        "lst2.remove(3)\n",
        "print(\"28:\", lst2)\n",
        "\n",
        "# 29. Access the second element in ['a', 'b', 'c', 'd']\n",
        "letters = ['a', 'b', 'c', 'd']\n",
        "print(\"29:\", letters[1])\n",
        "\n",
        "# 30. Reverse the list [10, 20, 30, 40, 50]\n",
        "numbers = [10, 20, 30, 40, 50]\n",
        "numbers.reverse()\n",
        "print(\"30:\", numbers)\n"
      ],
      "metadata": {
        "colab": {
          "base_uri": "https://localhost:8080/",
          "height": 124
        },
        "id": "GOQnMUk8i9W9",
        "outputId": "27799f8a-59c8-422e-e0c4-6ad300784da6"
      },
      "execution_count": 1,
      "outputs": [
        {
          "output_type": "error",
          "ename": "SyntaxError",
          "evalue": "unterminated string literal (detected at line 1) (ipython-input-1-356124923.py, line 1)",
          "traceback": [
            "\u001b[0;36m  File \u001b[0;32m\"/tmp/ipython-input-1-356124923.py\"\u001b[0;36m, line \u001b[0;32m1\u001b[0m\n\u001b[0;31m    Great! Here's the solution for all **Practical Questions (21–30)** from your assignment in a clean and easy format with **Python code**:\u001b[0m\n\u001b[0m               ^\u001b[0m\n\u001b[0;31mSyntaxError\u001b[0m\u001b[0;31m:\u001b[0m unterminated string literal (detected at line 1)\n"
          ]
        }
      ]
    },
    {
      "cell_type": "code",
      "source": [],
      "metadata": {
        "id": "N31DKFwTjJXw"
      },
      "execution_count": null,
      "outputs": []
    }
  ]
}